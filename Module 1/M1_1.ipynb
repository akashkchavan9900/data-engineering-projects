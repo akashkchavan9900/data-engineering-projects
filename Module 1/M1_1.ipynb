{
 "cells": [
  {
   "cell_type": "markdown",
   "metadata": {
    "application/vnd.databricks.v1+cell": {
     "cellMetadata": {},
     "inputWidgets": {},
     "nuid": "d13afa1e-c060-4863-9fa4-643e5cfef474",
     "showTitle": false,
     "tableResultSettingsMap": {},
     "title": ""
    }
   },
   "source": [
    "### ASSIGNMENT NO 1\n",
    "Dataset: sales_data.csv\n",
    "\n",
    "### Tasks:\n",
    "1. Write a SQL query to get the total sales per region.\n",
    "\n",
    "2. Retrieve all orders placed on or after 2023-10-02.\n",
    "\n",
    "3. Find all customers who made purchases greater than ₹2000.\n",
    "\n",
    "4. Write a query to display the highest single sale amount and its region."
   ]
  },
  {
   "cell_type": "code",
   "execution_count": 0,
   "metadata": {
    "application/vnd.databricks.v1+cell": {
     "cellMetadata": {
      "byteLimit": 2048000,
      "rowLimit": 10000
     },
     "inputWidgets": {},
     "nuid": "530711f4-fd16-4210-9f29-343d63050769",
     "showTitle": false,
     "tableResultSettingsMap": {},
     "title": ""
    }
   },
   "outputs": [],
   "source": [
    "create database sales;\n",
    "use sales;"
   ]
  },
  {
   "cell_type": "code",
   "execution_count": 0,
   "metadata": {
    "application/vnd.databricks.v1+cell": {
     "cellMetadata": {
      "byteLimit": 2048000,
      "rowLimit": 10000
     },
     "inputWidgets": {},
     "nuid": "c90bbe0d-6831-4988-9cdb-0afc19223421",
     "showTitle": false,
     "tableResultSettingsMap": {},
     "title": ""
    }
   },
   "outputs": [],
   "source": [
    "CREATE TABLE sales_data (\n",
    "  sale_id INT,\n",
    "  customer_id STRING,\n",
    "  product STRING,\n",
    "  amount INT,\n",
    "  sale_date DATE,\n",
    "  region STRING\n",
    ");"
   ]
  },
  {
   "cell_type": "code",
   "execution_count": 0,
   "metadata": {
    "application/vnd.databricks.v1+cell": {
     "cellMetadata": {
      "byteLimit": 2048000,
      "rowLimit": 10000
     },
     "inputWidgets": {},
     "nuid": "7f0b6aaf-73d2-4637-90d8-cbd37b4c3dd6",
     "showTitle": false,
     "tableResultSettingsMap": {},
     "title": ""
    }
   },
   "outputs": [],
   "source": [
    "INSERT INTO sales_data (sale_id, customer_id, product, amount, sale_date, region) VALUES\n",
    "  (101, 'C001', 'Shoes', 2999, '2023-10-01', 'North'),\n",
    "  (102, 'C002', 'T-Shirt', 999, '2023-10-01', 'West'),\n",
    "  (103, 'C001', 'Watch', 5999, '2023-10-02', 'North'),\n",
    "  (104, 'C003', 'Bag', 1999, '2023-10-03', 'South');"
   ]
  },
  {
   "cell_type": "code",
   "execution_count": 0,
   "metadata": {
    "application/vnd.databricks.v1+cell": {
     "cellMetadata": {
      "byteLimit": 2048000,
      "rowLimit": 10000
     },
     "inputWidgets": {},
     "nuid": "399cb19e-3fe7-4fa6-ba9d-b539bb67d3b6",
     "showTitle": false,
     "tableResultSettingsMap": {},
     "title": ""
    }
   },
   "outputs": [],
   "source": [
    "SELECT * FROM sales_data;"
   ]
  },
  {
   "cell_type": "code",
   "execution_count": 0,
   "metadata": {
    "application/vnd.databricks.v1+cell": {
     "cellMetadata": {
      "byteLimit": 2048000,
      "rowLimit": 10000
     },
     "inputWidgets": {},
     "nuid": "f040fc55-291a-4922-9ace-cde052ec9ac3",
     "showTitle": false,
     "tableResultSettingsMap": {},
     "title": ""
    }
   },
   "outputs": [],
   "source": [
    "-- 1. Get the TOTAL SALES per REGION\n",
    "SELECT region, SUM(amount) AS total_sales\n",
    "FROM sales_data\n",
    "GROUP BY region;"
   ]
  },
  {
   "cell_type": "code",
   "execution_count": 0,
   "metadata": {
    "application/vnd.databricks.v1+cell": {
     "cellMetadata": {
      "byteLimit": 2048000,
      "rowLimit": 10000
     },
     "inputWidgets": {},
     "nuid": "fedf610e-ba96-4f48-a700-1e2b087cf2cc",
     "showTitle": false,
     "tableResultSettingsMap": {},
     "title": ""
    }
   },
   "outputs": [],
   "source": [
    "-- 2. Retrieve all ORDERS placed on or after '2023-10-02'\n",
    "SELECT * FROM sales_data\n",
    "WHERE  sale_date >= '2023-10-02';"
   ]
  },
  {
   "cell_type": "code",
   "execution_count": 0,
   "metadata": {
    "application/vnd.databricks.v1+cell": {
     "cellMetadata": {
      "byteLimit": 2048000,
      "rowLimit": 10000
     },
     "inputWidgets": {},
     "nuid": "68b78f11-7968-4174-bfb9-9bf4aaeeecb6",
     "showTitle": false,
     "tableResultSettingsMap": {},
     "title": ""
    }
   },
   "outputs": [],
   "source": [
    "-- 3. Find all CUSTOMERS who made purchase greater than ₹2000.\n",
    "SELECT customer_id, SUM(amount) AS total_purchase\n",
    "FROM sales_data\n",
    "GROUP BY customer_id\n",
    "HAVING total_purchase > 2000;"
   ]
  },
  {
   "cell_type": "code",
   "execution_count": 0,
   "metadata": {
    "application/vnd.databricks.v1+cell": {
     "cellMetadata": {
      "byteLimit": 2048000,
      "rowLimit": 10000
     },
     "inputWidgets": {},
     "nuid": "0bbce1fb-64ec-4a02-bcfe-1440c8904d00",
     "showTitle": false,
     "tableResultSettingsMap": {},
     "title": ""
    }
   },
   "outputs": [],
   "source": [
    "-- 4. Display the highest single SALE AMOUNT and its REGION.\n",
    "SELECT MAX(amount) AS highest_sale, region\n",
    "FROM sales_data\n",
    "GROUP BY region\n",
    "ORDER BY highest_sale DESC\n",
    "LIMIT 1;"
   ]
  },
  {
   "cell_type": "code",
   "execution_count": 0,
   "metadata": {
    "application/vnd.databricks.v1+cell": {
     "cellMetadata": {},
     "inputWidgets": {},
     "nuid": "a3ae815a-f150-4083-b097-89e5d76a1c29",
     "showTitle": false,
     "tableResultSettingsMap": {},
     "title": ""
    }
   },
   "outputs": [],
   "source": []
  }
 ],
 "metadata": {
  "application/vnd.databricks.v1+notebook": {
   "computePreferences": null,
   "dashboards": [],
   "environmentMetadata": {
    "base_environment": "",
    "environment_version": "2"
   },
   "inputWidgetPreferences": null,
   "language": "sql",
   "notebookMetadata": {
    "pythonIndentUnit": 4
   },
   "notebookName": "M1_1",
   "widgets": {}
  },
  "language_info": {
   "name": "sql"
  }
 },
 "nbformat": 4,
 "nbformat_minor": 0
}
