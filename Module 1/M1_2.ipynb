{
 "cells": [
  {
   "cell_type": "markdown",
   "metadata": {
    "application/vnd.databricks.v1+cell": {
     "cellMetadata": {},
     "inputWidgets": {},
     "nuid": "df524ad0-7587-4940-b85b-8e670898330a",
     "showTitle": false,
     "tableResultSettingsMap": {},
     "title": ""
    }
   },
   "source": [
    "### ASSIGNMENT No. 2: Customer Product Analysis (Using Joins)\n",
    "Dataset: customers.csv, sales_data.csv\n",
    "\n",
    "### Tasks:\n",
    "1. Write a JOIN query to show customer name, product, and region.\n",
    "\n",
    "2. Count how many products each customer has purchased.\n",
    "\n",
    "3. Get all female customers who made a purchase greater than ₹1000.\n",
    "\n",
    "4. Identify cities with the highest total purchase amount.\n"
   ]
  },
  {
   "cell_type": "code",
   "execution_count": 0,
   "metadata": {
    "application/vnd.databricks.v1+cell": {
     "cellMetadata": {
      "byteLimit": 2048000,
      "rowLimit": 10000
     },
     "inputWidgets": {},
     "nuid": "46638567-1325-454f-8340-aa12a3cbb24a",
     "showTitle": false,
     "tableResultSettingsMap": {},
     "title": ""
    }
   },
   "outputs": [],
   "source": [
    "create database customers;\n",
    "use customers;"
   ]
  },
  {
   "cell_type": "code",
   "execution_count": 0,
   "metadata": {
    "application/vnd.databricks.v1+cell": {
     "cellMetadata": {
      "byteLimit": 2048000,
      "rowLimit": 10000
     },
     "inputWidgets": {},
     "nuid": "52ec5655-dcbd-4321-8f7a-947ef2076b2f",
     "showTitle": false,
     "tableResultSettingsMap": {},
     "title": ""
    }
   },
   "outputs": [],
   "source": [
    "create table customers_data (\n",
    "customer_id VARCHAR(20) , \n",
    "name VARCHAR(20) ,\n",
    "gender VARCHAR(1) ,\n",
    "city VARCHAR(20)\n",
    ");"
   ]
  },
  {
   "cell_type": "code",
   "execution_count": 0,
   "metadata": {
    "application/vnd.databricks.v1+cell": {
     "cellMetadata": {
      "byteLimit": 2048000,
      "rowLimit": 10000
     },
     "inputWidgets": {},
     "nuid": "65833530-63f8-457a-a31a-0cbf617b3b69",
     "showTitle": false,
     "tableResultSettingsMap": {},
     "title": ""
    }
   },
   "outputs": [],
   "source": [
    "INSERT INTO customers_data VALUES \n",
    "('C001', 'Ravi', 'M', 'Mumbai'),\n",
    "('C002', 'Priya', 'F', 'Delhi'),\n",
    "('C003', 'Arjun', 'M', 'Bangalore');"
   ]
  },
  {
   "cell_type": "code",
   "execution_count": 0,
   "metadata": {
    "application/vnd.databricks.v1+cell": {
     "cellMetadata": {
      "byteLimit": 2048000,
      "rowLimit": 10000
     },
     "inputWidgets": {},
     "nuid": "6c16cc4b-a0d8-4150-9396-6b254cc94376",
     "showTitle": false,
     "tableResultSettingsMap": {},
     "title": ""
    }
   },
   "outputs": [],
   "source": [
    "SELECT * FROM customers_data;"
   ]
  },
  {
   "cell_type": "code",
   "execution_count": 0,
   "metadata": {
    "application/vnd.databricks.v1+cell": {
     "cellMetadata": {
      "byteLimit": 2048000,
      "rowLimit": 10000
     },
     "inputWidgets": {},
     "nuid": "7f78caf1-202f-4a0f-90b9-fc259abecca5",
     "showTitle": false,
     "tableResultSettingsMap": {},
     "title": ""
    }
   },
   "outputs": [],
   "source": [
    "use customers;"
   ]
  },
  {
   "cell_type": "code",
   "execution_count": 0,
   "metadata": {
    "application/vnd.databricks.v1+cell": {
     "cellMetadata": {
      "byteLimit": 2048000,
      "rowLimit": 10000
     },
     "inputWidgets": {},
     "nuid": "73eac723-614f-4a1a-8589-1f17cadf419e",
     "showTitle": false,
     "tableResultSettingsMap": {},
     "title": ""
    }
   },
   "outputs": [],
   "source": [
    "CREATE TABLE sales_data (\n",
    "  sale_id INT,\n",
    "  customer_id STRING,\n",
    "  product STRING,\n",
    "  amount INT,\n",
    "  sale_date DATE,\n",
    "  region STRING\n",
    ");"
   ]
  },
  {
   "cell_type": "code",
   "execution_count": 0,
   "metadata": {
    "application/vnd.databricks.v1+cell": {
     "cellMetadata": {
      "byteLimit": 2048000,
      "rowLimit": 10000
     },
     "inputWidgets": {},
     "nuid": "66c7efed-d805-472b-8d89-44e7cf11a434",
     "showTitle": false,
     "tableResultSettingsMap": {},
     "title": ""
    }
   },
   "outputs": [],
   "source": [
    "INSERT INTO sales_data (sale_id, customer_id, product, amount, sale_date, region) VALUES\n",
    "  (101, 'C001', 'Shoes', 2999, '2023-10-01', 'North'),\n",
    "  (102, 'C002', 'T-Shirt', 999, '2023-10-01', 'West'),\n",
    "  (103, 'C001', 'Watch', 5999, '2023-10-02', 'North'),\n",
    "  (104, 'C003', 'Bag', 1999, '2023-10-03', 'South');"
   ]
  },
  {
   "cell_type": "code",
   "execution_count": 0,
   "metadata": {
    "application/vnd.databricks.v1+cell": {
     "cellMetadata": {
      "byteLimit": 2048000,
      "rowLimit": 10000
     },
     "inputWidgets": {},
     "nuid": "1209ac1c-2cd8-4ec4-a4b7-c5f5de2be4d0",
     "showTitle": false,
     "tableResultSettingsMap": {},
     "title": ""
    }
   },
   "outputs": [],
   "source": [
    "SELECT * FROM sales_data;"
   ]
  },
  {
   "cell_type": "code",
   "execution_count": 0,
   "metadata": {
    "application/vnd.databricks.v1+cell": {
     "cellMetadata": {
      "byteLimit": 2048000,
      "rowLimit": 10000
     },
     "inputWidgets": {},
     "nuid": "99dcf1d0-6562-48b7-bc82-84d693b09b52",
     "showTitle": false,
     "tableResultSettingsMap": {},
     "title": ""
    }
   },
   "outputs": [],
   "source": [
    "desc sales_data;"
   ]
  },
  {
   "cell_type": "code",
   "execution_count": 0,
   "metadata": {
    "application/vnd.databricks.v1+cell": {
     "cellMetadata": {
      "byteLimit": 2048000,
      "rowLimit": 10000
     },
     "inputWidgets": {},
     "nuid": "c03a6024-bbbc-4dd7-aa45-a912c90942b9",
     "showTitle": false,
     "tableResultSettingsMap": {},
     "title": ""
    }
   },
   "outputs": [],
   "source": [
    "desc customers_data;"
   ]
  },
  {
   "cell_type": "code",
   "execution_count": 0,
   "metadata": {
    "application/vnd.databricks.v1+cell": {
     "cellMetadata": {
      "byteLimit": 2048000,
      "rowLimit": 10000
     },
     "inputWidgets": {},
     "nuid": "fa9cc772-1999-4f27-bee2-eb6b83257c11",
     "showTitle": false,
     "tableResultSettingsMap": {},
     "title": ""
    }
   },
   "outputs": [],
   "source": [
    "-- 1. Write a JOIN query to show customer name, product, and region.\n",
    "\n",
    "SELECT cd.name, sd.product, sd.region\n",
    "FROM customers_data cd\n",
    "JOIN sales_data sd ON cd.customer_id = sd.customer_id;"
   ]
  },
  {
   "cell_type": "code",
   "execution_count": 0,
   "metadata": {
    "application/vnd.databricks.v1+cell": {
     "cellMetadata": {
      "byteLimit": 2048000,
      "rowLimit": 10000
     },
     "inputWidgets": {},
     "nuid": "34d0a085-9ecc-48d1-ab2d-ed580afad4ed",
     "showTitle": false,
     "tableResultSettingsMap": {},
     "title": ""
    }
   },
   "outputs": [],
   "source": [
    "-- 2. Count how many products each customer has purchased.\n",
    "\n",
    "SELECT cd.name, COUNT(sd.product) AS total_products_purchased\n",
    "FROM customers_data cd\n",
    "JOIN sales_data sd ON cd.customer_id = sd.customer_id\n",
    "GROUP BY cd.name;\n",
    "\n"
   ]
  },
  {
   "cell_type": "code",
   "execution_count": 0,
   "metadata": {
    "application/vnd.databricks.v1+cell": {
     "cellMetadata": {
      "byteLimit": 2048000,
      "rowLimit": 10000
     },
     "inputWidgets": {},
     "nuid": "8fb8a1f7-76ba-4142-a612-231f1094cc61",
     "showTitle": false,
     "tableResultSettingsMap": {},
     "title": ""
    }
   },
   "outputs": [],
   "source": [
    "-- 3. Get all female customers who made a purchase less than ₹1000.\n",
    "\n",
    "SELECT DISTINCT cd.name\n",
    "FROM customers_data cd\n",
    "JOIN sales_data sd ON cd.customer_id = sd.customer_id\n",
    "WHERE cd.gender = 'F'\n",
    "  AND sd.amount < 1000;"
   ]
  },
  {
   "cell_type": "code",
   "execution_count": 0,
   "metadata": {
    "application/vnd.databricks.v1+cell": {
     "cellMetadata": {
      "byteLimit": 2048000,
      "rowLimit": 10000
     },
     "inputWidgets": {},
     "nuid": "682fd31f-f553-4a88-b084-b6bcc05acb81",
     "showTitle": false,
     "tableResultSettingsMap": {},
     "title": ""
    }
   },
   "outputs": [],
   "source": [
    "-- 4. Identify cities with the highest total purchase amount.\n",
    "\n",
    "SELECT cd.city, SUM(sd.amount) AS total_purchase\n",
    "FROM customers_data cd \n",
    "JOIN sales_data sd ON cd.customer_id = sd.customer_id\n",
    "GROUP BY cd.city\n",
    "ORDER BY total_purchase DESC;"
   ]
  }
 ],
 "metadata": {
  "application/vnd.databricks.v1+notebook": {
   "computePreferences": null,
   "dashboards": [],
   "environmentMetadata": {
    "base_environment": "",
    "environment_version": "2"
   },
   "inputWidgetPreferences": null,
   "language": "sql",
   "notebookMetadata": {
    "pythonIndentUnit": 4
   },
   "notebookName": "M1_2",
   "widgets": {}
  },
  "language_info": {
   "name": "sql"
  }
 },
 "nbformat": 4,
 "nbformat_minor": 0
}
